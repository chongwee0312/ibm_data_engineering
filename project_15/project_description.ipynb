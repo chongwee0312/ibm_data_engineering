{
 "cells": [
  {
   "cell_type": "markdown",
   "id": "c6481083-d76e-4f14-8357-5d33a5a6b0b6",
   "metadata": {},
   "source": [
    "## Scenario\n",
    "\r\n",
    "For this project you will assume the role of database administrator at a data analytics consulting company. You have been assigned to a project where you need to setup, test and optimize the data platform. The platform contains different on premises database servers like MySQL, PostgreSQL, and cloud-based databases like IBM DB2. Your job is to configure, tune, secure, backup and monitor those databases and keep them running at peak performance\n",
    "\n",
    "You have assumed the role of database administrator for the PostgreSQL server and you will perform the User Management tasks and handle the backup of the databases.\n",
    "\n",
    "You have assumed the role of database administrator for the MySQL server and will perform the tasks like configuration check, recovery of data. You will use indexing to improve the database performance. You will identify which storage engines are supported by the server and which table uses which storage engine. Optionally You will also automate backup tasks.\n",
    "\n",
    "You have been assigned the work to provison a cloud instance of IBM DB2 server and perform the tasks like restoration of data, index creation to improve the query performance. You will create views to make queries easier to write. Optionally You will also connect to the cloud instance of IBM DB2 server and from command line.."
   ]
  },
  {
   "cell_type": "markdown",
   "id": "b815bea3-a318-412a-9c99-8dab4663290b",
   "metadata": {},
   "source": [
    "## Objectives\n",
    "\n",
    "In Part 1 of this assignment you will be working on the following aspects of Database Administration.\r\n",
    "Installation/Provisioning\r\n",
    "Configuration\r\n",
    "User Management\r\n",
    "Backupnt\r\n",
    "B\n",
    "\n",
    "In part 2 of this assignment you will be working on the following aspects of Database Administration.\r\n",
    "\r\n",
    "Installing/Provisioning\r\n",
    "Configuration\r\n",
    "Recovery\r\n",
    "Indexing\r\n",
    "Storage Engines\r\n",
    "Automation of routin\n",
    "\n",
    "In part 3 of this assignment you will be working on the following aspects of Database Administration.\r\n",
    "\r\n",
    "Restore data\r\n",
    "Indexing\r\n",
    "View creation\r\n",
    "Connecting from command linee tasksackup"
   ]
  },
  {
   "cell_type": "markdown",
   "id": "ba192519-6eb1-4f69-a704-5e8cf1796e15",
   "metadata": {},
   "source": [
    "Part 1: You will work with PostgreSQL server and perform the User Management tasks and handle the backup of the databases.\r\n",
    "\r\n",
    "Part 2: You will work with MySQL server and perform the tasks like configuration check, recovery of data. You will use indexing to improve the database performance. You will identify which storage engines are supported by the server and which table uses which storage engine. Optionally you will also automate backup tasks.\r\n",
    "\r\n",
    "Part 3: You will work with the cloud instance of IBM DB2 server and perform the tasks like restoration of data, index creation to improve the query performance. You will create views to make queries easier to write. Optionally you will also connect to the cloud instance of IBM DB2 server and from command line."
   ]
  },
  {
   "cell_type": "markdown",
   "id": "6fd651dd-92d0-4de8-820e-58008e2506a3",
   "metadata": {},
   "source": [
    "Your final assignment will be graded by your peers who are also completing this assignment within the same session. Your grade will be based on the following tasks:\r\n",
    "\r\n",
    "Task 1.1 - Find the settings in PostgreSQL (1 pts)\r\n",
    "\r\n",
    "Task 1.2 - Create an User (1 pts)\r\n",
    "\r\n",
    "Task 1.3 - Create a Role (1 pts)\r\n",
    "\r\n",
    "Task 1.4 - Grant privileges to the role (2 pts)\r\n",
    "\r\n",
    "Task 1.5 - Grant role to an user (1 pts)\r\n",
    "\r\n",
    "Task 1.6 - Backup a database on PostgreSQL server (1 pts)\r\n",
    "\r\n",
    "Task 2.1 - Restore MySQL server using a previous backup (1 pts)\r\n",
    "\r\n",
    "Task 2.2 - Find the table data size (1 pts)\r\n",
    "\r\n",
    "Task 2.3 - Baseline query performance (1 pts)\r\n",
    "\r\n",
    "Task 2.4 - Create an index. (1 pts)\r\n",
    "\r\n",
    "Task 2.5 - Document the improvement in query performance. (1 pts)\r\n",
    "\r\n",
    "Task 2.6 - Find supported storage engines (1 pts)\r\n",
    "\r\n",
    "Task 2.7 - Find the storage engine of a table (1 pts)\r\n",
    "\r\n",
    "Task 3.1 - Restore the table billing. (2 pts)\r\n",
    "\r\n",
    "Task 3.2 - Create a view named basicbilldetails with the columns customerid, month, billedamount. (1 pts)\r\n",
    "\r\n",
    "Task 3.3 - Baseline query performance. (1 pts)\r\n",
    "\r\n",
    "Task 3.4 - Create an index. (1 pts)\r\n",
    "\r\n",
    "Task 3.5 - Document the improvement in query performance. (1 pts)"
   ]
  },
  {
   "cell_type": "code",
   "execution_count": null,
   "id": "a4eb0731-05c7-461e-8287-b2cf3caed11f",
   "metadata": {},
   "outputs": [],
   "source": []
  }
 ],
 "metadata": {
  "kernelspec": {
   "display_name": "Python 3 (ipykernel)",
   "language": "python",
   "name": "python3"
  },
  "language_info": {
   "codemirror_mode": {
    "name": "ipython",
    "version": 3
   },
   "file_extension": ".py",
   "mimetype": "text/x-python",
   "name": "python",
   "nbconvert_exporter": "python",
   "pygments_lexer": "ipython3",
   "version": "3.11.5"
  }
 },
 "nbformat": 4,
 "nbformat_minor": 5
}
